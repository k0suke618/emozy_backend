{
  "cells": [
    {
      "cell_type": "markdown",
      "metadata": {},
      "source": [
        "# Save GGUF Model from LoRA Checkpoint (Colab)",
        "\n",
        "このノートブックは Google Colab 上で実行し、\n",
        "Windows などで学習済みの LoRA チェックポイント (例: `checkpoint-886.zip`) を\n",
        "ベースモデル `unsloth/gpt-oss-20b` に適用して GGUF 形式に変換する手順をまとめています。"
      ]
    },
    {
      "cell_type": "markdown",
      "metadata": {},
      "source": [
        "## 1. ランタイムの準備",
        "- Colab で **GPU** ランタイムに切り替えてから実行してください (T4/A100 等)。",
        "- 右上の `接続` → `ランタイム` → `ランタイムのタイプを変更` から GPU を選択します。"
      ]
    },
    {
      "cell_type": "code",
      "execution_count": null,
      "metadata": {
        "id": "install-packages"
      },
      "outputs": [],
      "source": [
        "#@title Install dependencies\n",
        "!pip install --upgrade --quiet unsloth==2025.8.10 peft==0.12.0 accelerate==0.34.2 transformers==4.45.1 safetensors huggingface_hub\n",
        "!pip install --quiet sentencepiece bitsandbytes"
      ]
    },
    {
      "cell_type": "markdown",
      "metadata": {},
      "source": [
        "## 2. Google Drive をマウント (任意)",
        "チェックポイント ZIP を Google Drive に置いている場合は以下を実行してマウントします。"
      ]
    },
    {
      "cell_type": "code",
      "execution_count": null,
      "metadata": {
        "id": "mount-drive"
      },
      "outputs": [],
      "source": [
        "#@title Mount Google Drive (optional)\n",
        "from google.colab import drive\n",
        "drive.mount('/content/drive')"
      ]
    },
    {
      "cell_type": "markdown",
      "metadata": {},
      "source": [
        "## 3. チェックポイントを配置",
        "- 以下では `/content/checkpoint-886.zip` に置かれている前提です。",
        "- Colab のファイルアップローダや Google Drive からのコピーで同じパスに配置してください。",
        "- 複数のチェックポイントがある場合は適宜パスを変更してください。"
      ]
    },
    {
      "cell_type": "code",
      "execution_count": null,
      "metadata": {
        "id": "prepare-paths"
      },
      "outputs": [],
      "source": [
        "#@title Set paths\n",
        "from pathlib import Path\n",
        "CHECKPOINT_ZIP = Path('/content/checkpoint-886.zip')  # @param {type:\"string\"}\n",
        "WORK_DIR = Path('/content/runs/infer')\n",
        "OUTPUT_DIR = Path('/content/outputs')\n",
        "WORK_DIR.mkdir(parents=True, exist_ok=True)\n",
        "OUTPUT_DIR.mkdir(parents=True, exist_ok=True)"
      ]
    },
    {
      "cell_type": "code",
      "execution_count": null,
      "metadata": {
        "id": "unzip-checkpoint"
      },
      "outputs": [],
      "source": [
        "#@title Unzip LoRA checkpoint\n",
        "import zipfile\n",
        "if not CHECKPOINT_ZIP.exists():\n",
        "    raise FileNotFoundError(f'Checkpoint zip not found: {CHECKPOINT_ZIP}')\n",
        "with zipfile.ZipFile(CHECKPOINT_ZIP, 'r') as zf:\n",
        "    zf.extractall(WORK_DIR)\n",
        "print('Extracted to:', WORK_DIR)"
      ]
    },
    {
      "cell_type": "markdown",
      "metadata": {},
      "source": [
        "## 4. UnsLoTH でベースモデル + LoRA をロード",
        "- `unsloth/gpt-oss-20b` を 4bit 量子化でロードし、LoRA アダプタを適用します。",
        "- `checkpoint_dir` は zip 展開後のフォルダ (例: `runs/infer/checkpoint-886`) を指すようにしてください。"
      ]
    },
    {
      "cell_type": "code",
      "execution_count": null,
      "metadata": {
        "id": "load-unsloth"
      },
      "outputs": [],
      "source": [
        "#@title Load base model and apply LoRA\n",
        "import torch\n",
        "from unsloth import FastLanguageModel\n",
        "from peft import PeftModel\n",
        "\n",
        "base_model_name = 'unsloth/gpt-oss-20b'\n",
        "checkpoint_dir = next(WORK_DIR.glob('checkpoint-*'))\n",
        "print('Using checkpoint dir:', checkpoint_dir)\n",
        "\n",
        "model, tokenizer = FastLanguageModel.from_pretrained(\n",
        "    model_name = base_model_name,\n",
        "    max_seq_length = 4096,\n",
        "    load_in_4bit = True,\n",
        "    dtype = None,\n",
        ")\n",
        "\n",
        "model = PeftModel.from_pretrained(model, checkpoint_dir)\n",
        "model = FastLanguageModel.for_inference(model, dtype=None)\n",
        "print('Model + LoRA loaded!')"
      ]
    },
    {
      "cell_type": "markdown",
      "metadata": {},
      "source": [
        "## 5. LoRA をマージして GGUF を出力",
        "- 保存先は `OUTPUT_DIR` (`/content/outputs`) 以下に作成されます。",
        "- GGUF 形式では `f16` などの量子化形式を選択可能です (VRAM/メモリに合わせて変更)。"
      ]
    },
    {
      "cell_type": "code",
      "execution_count": null,
      "metadata": {
        "id": "export-gguf"
      },
      "outputs": [],
      "source": [
        "#@title Export merged model (HF + GGUF)",
        "merged_dir = OUTPUT_DIR / 'merged_hf'\n",
        "gguf_dir = OUTPUT_DIR / 'gguf'\n",
        "merged_dir.mkdir(parents=True, exist_ok=True)\n",
        "gguf_dir.mkdir(parents=True, exist_ok=True)\n",
        "\n",
        "print('Saving merged HF model...')\n",
        "model.save_pretrained_merged(\n",
        "    merged_dir,\n",
        "    tokenizer = tokenizer,\n",
        "    save_method = 'merged_16bit',\n",
        ")\n",
        "tokenizer.save_pretrained(merged_dir)\n",
        "\n",
        "print('Converting to GGUF (f16)...')\n",
        "model.save_pretrained_gguf(\n",
        "    gguf_dir,\n",
        "    tokenizer,\n",
        "    quantization_method = 'f16',  # 例: 'q8_0', 'q4_k_m' などに変更可能\n",
        ")\n",
        "print('Done! Files written to:', gguf_dir)"
      ]
    },
    {
      "cell_type": "markdown",
      "metadata": {},
      "source": [
        "## 6. 生成テスト (任意)",
        "GGUF 出力前にマージ済みモデルで動作確認を行いたい場合は以下を実行してください。"
      ]
    },
    {
      "cell_type": "code",
      "execution_count": null,
      "metadata": {
        "id": "test-generation"
      },
      "outputs": [],
      "source": [
        "#@title Quick generation test (optional)\n",
        "messages = [\n",
        "    {\"role\": \"system\", \"content\": \"You are a helpful assistant.\"},\n",
        "    {\"role\": \"user\", \"content\": \"こんにちは！ 自己紹介してください。\"},\n",
        "]\n",
        "inputs = tokenizer.apply_chat_template(\n",
        "    messages,\n",
        "    add_generation_prompt = True,\n",
        "    return_tensors = \"pt\",\n",
        "    return_dict = True,\n",
        ").to(model.device)\n",
        "from transformers import TextStreamer\n",
        "streamer = TextStreamer(tokenizer, skip_prompt=True, skip_special_tokens=True)\n",
        "_ = model.generate(**inputs, max_new_tokens=256, streamer=streamer)"
      ]
    }
  ],
  "metadata": {
    "kernelspec": {
      "display_name": "Python 3",
      "language": "python",
      "name": "python3"
    },
    "language_info": {
      "codemirror_mode": {
        "name": "ipython",
        "version": 3
      },
      "file_extension": ".py",
      "mimetype": "text/x-python",
      "name": "python",
      "nbconvert_exporter": "python",
      "pygments_lexer": "ipython3",
      "version": "3.11"
    }
  },
  "nbformat": 4,
  "nbformat_minor": 5
}
